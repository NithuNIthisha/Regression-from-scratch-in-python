{
  "nbformat": 4,
  "nbformat_minor": 0,
  "metadata": {
    "colab": {
      "name": "Regression.ipynb",
      "provenance": [],
      "authorship_tag": "ABX9TyNvjOUFbqcTZIRsDtaIwL7/",
      "include_colab_link": true
    },
    "kernelspec": {
      "name": "python3",
      "display_name": "Python 3"
    },
    "language_info": {
      "name": "python"
    }
  },
  "cells": [
    {
      "cell_type": "markdown",
      "metadata": {
        "id": "view-in-github",
        "colab_type": "text"
      },
      "source": [
        "<a href=\"https://colab.research.google.com/github/NithuNIthisha/Regression-from-scratch-in-python/blob/main/Regression.ipynb\" target=\"_parent\"><img src=\"https://colab.research.google.com/assets/colab-badge.svg\" alt=\"Open In Colab\"/></a>"
      ]
    },
    {
      "cell_type": "code",
      "execution_count": 68,
      "metadata": {
        "id": "6PoAlvP_GmUM"
      },
      "outputs": [],
      "source": [
        "import numpy as np\n",
        "import pandas as pd\n",
        "import matplotlib.pyplot as plt"
      ]
    },
    {
      "cell_type": "code",
      "source": [
        "data = pd.read_csv(\"Salary_Data.csv\")\n",
        "data = np.array(data)\n",
        "m,n = data.shape\n",
        "data_train= data[0:24,:]\n",
        "data_test = data[24:,:]\n",
        "X_train = data_train[:,0]\n",
        "Y_train = data_train[:,1]\n",
        "m = len(Y_train)"
      ],
      "metadata": {
        "id": "ShCs1F7gG1ll"
      },
      "execution_count": 69,
      "outputs": []
    },
    {
      "cell_type": "code",
      "source": [
        "def gradient_descent(X,Y,alpha,iter):\n",
        "  m = len(Y)\n",
        "  slope = np.random.randn(1,1)*np.sqrt(1/m)\n",
        "  intercept = np.zeros((1,1))\n",
        "  lambd = 2\n",
        "  for i in range(iter):\n",
        "    h  = np.multiply(X_train,slope)  + intercept\n",
        "    cost   = (1/2*m)*np.sum((Y -h)**2)\n",
        "    der_intp  = (-1/m)*(np.sum( Y-h))\n",
        "    der_slop  = (-1/m)*(np.sum((Y-h)*X))+lambd/m*(slope)\n",
        "    size_intp = der_intp*alpha\n",
        "    size_slop = der_slop*alpha\n",
        "    slope     = slope - size_slop\n",
        "    intercept = intercept - size_intp\n",
        "  return slope ,intercept"
      ],
      "metadata": {
        "id": "6FbYNO48G3NF"
      },
      "execution_count": 70,
      "outputs": []
    },
    {
      "cell_type": "code",
      "source": [
        "s ,i = gradient_descent(X_train,Y_train,0.05,2000)"
      ],
      "metadata": {
        "id": "qIbQzbDpG681"
      },
      "execution_count": 71,
      "outputs": []
    },
    {
      "cell_type": "code",
      "source": [
        "h  = np.multiply(X_train,s)  + i"
      ],
      "metadata": {
        "id": "e6EEPt-jG9Dm"
      },
      "execution_count": 72,
      "outputs": []
    },
    {
      "cell_type": "code",
      "source": [
        "X = X_train.reshape(m,1)"
      ],
      "metadata": {
        "id": "bSg_gpuYHAe9"
      },
      "execution_count": 73,
      "outputs": []
    },
    {
      "cell_type": "code",
      "source": [
        "Y = Y_train.reshape(m,1)"
      ],
      "metadata": {
        "id": "yIaeRZjTHH9t"
      },
      "execution_count": 74,
      "outputs": []
    },
    {
      "cell_type": "code",
      "source": [
        "plt.scatter(X,Y,color=\"red\")\n",
        "plt.plot(X,h.T,color=\"blue\")\n",
        "plt.title(\"Salary vs Experience\")\n",
        "plt.xlabel(\"years of Experience\")\n",
        "plt.ylabel(\"Salary\")\n",
        "plt.show()"
      ],
      "metadata": {
        "colab": {
          "base_uri": "https://localhost:8080/",
          "height": 295
        },
        "id": "k386Z_lQHLeM",
        "outputId": "671ce822-1801-42eb-ed49-dc0ddb36bd61"
      },
      "execution_count": 75,
      "outputs": [
        {
          "output_type": "display_data",
          "data": {
            "image/png": "[encoded data removed]",
            "text/plain": [
              "<Figure size 432x288 with 1 Axes>"
            ]
          },
          "metadata": {
            "needs_background": "light"
          }
        }
      ]
    },
    {
      "cell_type": "code",
      "source": [
        "from sklearn.metrics import r2_score\n",
        "r2_score(Y,h.T)"
      ],
      "metadata": {
        "colab": {
          "base_uri": "https://localhost:8080/"
        },
        "id": "UeExhXP3HNJF",
        "outputId": "c596afc9-8d7d-41f0-f1ba-0a1b3e1dd0a9"
      },
      "execution_count": 76,
      "outputs": [
        {
          "output_type": "execute_result",
          "data": {
            "text/plain": [
              "0.9175108060051796"
            ]
          },
          "metadata": {},
          "execution_count": 76
        }
      ]
    }
  ]
}